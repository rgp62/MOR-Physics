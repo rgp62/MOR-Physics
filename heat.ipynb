{
 "cells": [
  {
   "cell_type": "markdown",
   "metadata": {},
   "source": [
    "This script solves the 2D heat equation analytically for several different initial conditions. From this data, it learns the explicit Euler update for the heat equation, $u^{n+1} = \\left( I + \\Delta t \\mathcal{L} \\right) u^n$, where $\\mathcal{L}$ is a parameterized spatial operator."
   ]
  },
  {
   "cell_type": "code",
   "execution_count": 1,
   "metadata": {},
   "outputs": [],
   "source": [
    "import tensorflow as tf\n",
    "import numpy as np\n",
    "import matplotlib.pylab as plt\n",
    "import scipy.special\n",
    "import itertools\n",
    "import random\n",
    "import toolz\n",
    "\n",
    "#classes for parameterized spatial operators\n",
    "import morp"
   ]
  },
  {
   "cell_type": "code",
   "execution_count": 2,
   "metadata": {},
   "outputs": [],
   "source": [
    "L=2*np.pi               #domain, (x,y) \\in [0,2\\pi]x[0,2\\pi]\n",
    "n=64                    #grid points in x and y\n",
    "dt=5e-4                 #timestep size\n",
    "nt = 100                #number of timesteps\n",
    "t = np.arange(nt)*dt\n",
    "samps = 100             #number of initial conditions\n",
    "\n",
    "#architecture for neural networks, g and h\n",
    "depth=8\n",
    "width=8\n",
    "\n",
    "\n",
    "M=8              #maximum number of composed updates in regression\n",
    "bs=100           #batch size\n",
    "epochs = 4\n",
    "\n",
    "#wavevectors\n",
    "k = np.transpose(np.meshgrid(np.fft.fftfreq(n,d=L/n)*2*np.pi,\n",
    "                             np.fft.rfftfreq(n,d=L/n)*2*np.pi,\n",
    "                             indexing='ij'),(1,2,0))"
   ]
  },
  {
   "cell_type": "code",
   "execution_count": 3,
   "metadata": {},
   "outputs": [],
   "source": [
    "#generates analytical solutions\n",
    "def gen():\n",
    "    uh = n*np.exp(1.0j*np.random.uniform(0,2*np.pi,(n,n//2+1)))  \\\n",
    "                   *scipy.special.erfc( (np.sqrt(np.sum(k**2,-1)) - 10)*.1)\n",
    "    return np.fft.irfft2(np.exp(-np.sum(k**2,-1)*np.reshape(t,(nt,1,1)))*uh)\n",
    "utrue = np.stack([gen() for _ in range(samps)],0)"
   ]
  },
  {
   "cell_type": "code",
   "execution_count": 4,
   "metadata": {},
   "outputs": [],
   "source": [
    "#creates parameterized operator. Assumes conservation, symmetry, isotropy\n",
    "L = morp.L2d(depth,width,k,cons=True,sym=True,iso=True)\n",
    "\n",
    "#explicit euler update operator\n",
    "upd = lambda u: u+L(u)"
   ]
  },
  {
   "cell_type": "code",
   "execution_count": 5,
   "metadata": {},
   "outputs": [
    {
     "name": "stderr",
     "output_type": "stream",
     "text": [
      "WARNING: Logging before flag parsing goes to stderr.\n",
      "W1006 23:08:53.956599 140736009790336 functional.py:587] Model was constructed with shape (None, 1) for input Tensor(\"input_2:0\", shape=(None, 1), dtype=float64), but it was called on an input with incompatible shape (64, 33, 1, 1).\n",
      "W1006 23:08:54.092044 140736009790336 functional.py:587] Model was constructed with shape (None, 1) for input Tensor(\"input_1:0\", shape=(None, 1), dtype=float64), but it was called on an input with incompatible shape (100, 64, 64, 1, 1).\n"
     ]
    }
   ],
   "source": [
    "#performs regression\n",
    "def maketrain(m,lr):\n",
    "    opt = tf.keras.optimizers.Adam(learning_rate=lr) \n",
    "    updm = toolz.compose(*[upd for _ in range(m)])\n",
    "    @tf.function\n",
    "    def train(u0,um):\n",
    "        with tf.GradientTape() as tape:\n",
    "            tape.watch(u0)\n",
    "            umpred = updm(u0)\n",
    "            loss = tf.reduce_mean(tf.keras.losses.mse(um, umpred))\n",
    "            gradients = tape.gradient(loss, L.vlist)\n",
    "        opt.apply_gradients(zip(gradients, L.vlist))\n",
    "        return loss\n",
    "    return train\n",
    "\n",
    "lrs = [1e-3,1e-3,1e-3,1e-4,1e-5,1e-6,1e-7,1e-8]\n",
    "for m in range(1,M):\n",
    "    train = maketrain(m,1e-4)   \n",
    "    for epoch in range(epochs):\n",
    "        inds = list(itertools.product(range(samps),range(nt-m)))\n",
    "        random.shuffle(inds)\n",
    "        inds = np.array(inds)\n",
    "        for i in range(len(inds)//bs):\n",
    "            ind = inds[bs*i:bs*(i+1)]\n",
    "            u0 = utrue[ind[:,0],ind[:,1]]\n",
    "            um = utrue[ind[:,0],ind[:,1]+m]\n",
    "            er = train(u0,um).numpy()"
   ]
  },
  {
   "cell_type": "code",
   "execution_count": 6,
   "metadata": {},
   "outputs": [
    {
     "name": "stderr",
     "output_type": "stream",
     "text": [
      "W1007 00:08:15.898519 140736009790336 functional.py:587] Model was constructed with shape (None, 1) for input Tensor(\"input_1:0\", shape=(None, 1), dtype=float64), but it was called on an input with incompatible shape (1, 64, 64, 1, 1).\n"
     ]
    }
   ],
   "source": [
    "#generates analytical solution with new initial condition\n",
    "utest = gen()\n",
    "\n",
    "#uses regressed operator to evolve new initial condition\n",
    "upred = toolz.compose(*[upd for _ in range(nt)])(\n",
    "                    tf.constant(np.expand_dims(utest[0],0)))"
   ]
  },
  {
   "cell_type": "code",
   "execution_count": 7,
   "metadata": {},
   "outputs": [
    {
     "data": {
      "image/png": "[encoded data removed]",
      "text/plain": [
       "<Figure size 432x288 with 2 Axes>"
      ]
     },
     "metadata": {
      "needs_background": "light"
     },
     "output_type": "display_data"
    },
    {
     "data": {
      "text/plain": [
       "<Figure size 432x288 with 0 Axes>"
      ]
     },
     "metadata": {},
     "output_type": "display_data"
    }
   ],
   "source": [
    "#plots true solution and solution with regressed operator at final time step\n",
    "fig,ax = plt.subplots(1,2)\n",
    "ax[0].imshow(utest[-1],vmin=-.4,vmax=.4)\n",
    "plt.figure()\n",
    "ax[1].imshow(upred[0],vmin=-.4,vmax=.4)\n",
    "ax[0].set_title('True')\n",
    "ax[1].set_title('Regressed');"
   ]
  }
 ],
 "metadata": {
  "kernelspec": {
   "display_name": "Python 3",
   "language": "python",
   "name": "python3"
  },
  "language_info": {
   "codemirror_mode": {
    "name": "ipython",
    "version": 3
   },
   "file_extension": ".py",
   "mimetype": "text/x-python",
   "name": "python",
   "nbconvert_exporter": "python",
   "pygments_lexer": "ipython3",
   "version": "3.7.7"
  }
 },
 "nbformat": 4,
 "nbformat_minor": 4
}
